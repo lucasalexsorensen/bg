{
 "cells": [
  {
   "cell_type": "code",
   "execution_count": 7,
   "metadata": {},
   "outputs": [
    {
     "name": "stdout",
     "output_type": "stream",
     "text": [
      "card_type_id 3\n",
      "0               A. F. Kay\n",
      "2                 Al'Akir\n",
      "3             Alexstrasza\n",
      "5       Ambassador Faelin\n",
      "14    Arch-Villain Rafaam\n",
      "Name: name, dtype: object\n",
      "\n",
      "card_type_id 4\n",
      "1        Adaptive Ancestor\n",
      "4                 Alleycat\n",
      "6           Amber Guardian\n",
      "7    Amplifying Lightspawn\n",
      "8      Ancestral Automaton\n",
      "Name: name, dtype: object\n",
      "\n",
      "card_type_id 5\n",
      "432    Assemble a Lineup\n",
      "433       Crack the Case\n",
      "434         Cry for Help\n",
      "435      Dust for Prints\n",
      "436    Fill the Cauldron\n",
      "Name: name, dtype: object\n",
      "\n",
      "card_type_id 40\n",
      "445         Anima Bribe\n",
      "446    Bloodsoaked Tome\n",
      "447          Boom Squad\n",
      "448         Cooked Book\n",
      "449     Cycle of Energy\n",
      "Name: name, dtype: object\n",
      "\n",
      "card_type_id 42\n",
      "377     Align the Elements\n",
      "378            Armor Stash\n",
      "379    Azerite Empowerment\n",
      "380         Bargain Bundle\n",
      "381      Blade of Ambition\n",
      "Name: name, dtype: object\n",
      "\n",
      "card_type_id 43\n",
      "486          A Faire Reward\n",
      "487          All Bottled Up\n",
      "488      Anomalous Evidence\n",
      "489    Anomalous Wisdomball\n",
      "490       Audience's Choice\n",
      "Name: name, dtype: object\n",
      "\n",
      "card_type_id 44\n",
      "543         Aggem Sticker\n",
      "544    All-Purpose Kibble\n",
      "545     Alliance Keychain\n",
      "546        Archaic Scroll\n",
      "547       Artanis Sticker\n",
      "Name: name, dtype: object\n",
      "\n"
     ]
    }
   ],
   "source": [
    "import pandas as pd\n",
    "df = pd.read_json('./cards.json')\n",
    "\n",
    "\n",
    "# groupby cardTypeId and print the name of the first 5 from each grouop\n",
    "for card_type, group in df.groupby('cardTypeId'):\n",
    "    print('card_type_id', card_type)\n",
    "    print(group.name.head(5))\n",
    "    print()"
   ]
  },
  {
   "cell_type": "code",
   "execution_count": null,
   "metadata": {},
   "outputs": [],
   "source": []
  }
 ],
 "metadata": {
  "kernelspec": {
   "display_name": "base",
   "language": "python",
   "name": "python3"
  },
  "language_info": {
   "codemirror_mode": {
    "name": "ipython",
    "version": 3
   },
   "file_extension": ".py",
   "mimetype": "text/x-python",
   "name": "python",
   "nbconvert_exporter": "python",
   "pygments_lexer": "ipython3",
   "version": "3.11.9"
  }
 },
 "nbformat": 4,
 "nbformat_minor": 2
}
